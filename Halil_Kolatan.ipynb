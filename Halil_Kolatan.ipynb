{
 "cells": [
  {
   "cell_type": "markdown",
   "id": "07d73ec6",
   "metadata": {
    "tags": []
   },
   "source": [
    "# Coding Case Questions                                                                                                                       \n",
    "#### Halil Kolatan "
   ]
  },
  {
   "cell_type": "markdown",
   "id": "bb48c951-ee28-4cdc-871a-9f550243f50f",
   "metadata": {},
   "source": [
    "Bu case çalışmasında girdi ve çıktıların daha rahat okunabilmesi için \".py\" formatı yerine \".ipynb\" formatı kullanılmıştır."
   ]
  },
  {
   "cell_type": "markdown",
   "id": "f07066d9",
   "metadata": {},
   "source": [
    "<b> 1 </b>. Write a Python program that takes a user's name as input and prints out a personalized greeting."
   ]
  },
  {
   "cell_type": "code",
   "execution_count": 1,
   "id": "e8db0aae",
   "metadata": {
    "tags": []
   },
   "outputs": [
    {
     "name": "stdin",
     "output_type": "stream",
     "text": [
      "İsminiz:  Halil\n"
     ]
    },
    {
     "name": "stdout",
     "output_type": "stream",
     "text": [
      "Selamlar Halil!\n"
     ]
    }
   ],
   "source": [
    "name = input(\"İsminiz: \")\n",
    "print(\"Selamlar \" + name +\"!\")"
   ]
  },
  {
   "cell_type": "code",
   "execution_count": 2,
   "id": "c345397b-749d-435a-8bc9-59c660ffdfc8",
   "metadata": {
    "tags": []
   },
   "outputs": [
    {
     "name": "stdin",
     "output_type": "stream",
     "text": [
      "İsminiz:  Halil\n"
     ]
    },
    {
     "name": "stdout",
     "output_type": "stream",
     "text": [
      "Selamlar Halil!\n"
     ]
    }
   ],
   "source": [
    "# Ünlem işaretini istersek değişkene istersek print fonksiyonuna atayabiliriz.\n",
    "name = input(\"İsminiz: \") + \"!\"\n",
    "print(\"Selamlar\", name)"
   ]
  },
  {
   "cell_type": "markdown",
   "id": "0c6a1118",
   "metadata": {
    "tags": []
   },
   "source": [
    "---"
   ]
  },
  {
   "cell_type": "markdown",
   "id": "9e80d92b",
   "metadata": {},
   "source": [
    "<b> 2 </b>. Write a Python function that takes a list of strings as input and returns a new list with all the strings in reverse order."
   ]
  },
  {
   "cell_type": "code",
   "execution_count": 3,
   "id": "39ab8549",
   "metadata": {
    "tags": []
   },
   "outputs": [
    {
     "name": "stdout",
     "output_type": "stream",
     "text": [
      "['Bu', 'bir', 'liste', 'denemesidir.']\n"
     ]
    }
   ],
   "source": [
    "# İlk olarak listemizi oluşturup çıktısına bakalım.\n",
    "liste = [\"Bu\", \"bir\", \"liste\", \"denemesidir.\"]\n",
    "print(liste)"
   ]
  },
  {
   "cell_type": "code",
   "execution_count": 4,
   "id": "04ce29f9-de55-4695-bf4c-b3bc8f0a2a8f",
   "metadata": {
    "tags": []
   },
   "outputs": [
    {
     "name": "stdout",
     "output_type": "stream",
     "text": [
      "['denemesidir.', 'liste', 'bir', 'Bu']\n"
     ]
    }
   ],
   "source": [
    "liste = [\"Bu\", \"bir\", \"liste\", \"denemesidir.\"]\n",
    "yeni_liste = list(reversed(liste))      \n",
    "print(yeni_liste)"
   ]
  },
  {
   "cell_type": "markdown",
   "id": "1e42aa61",
   "metadata": {},
   "source": [
    "---\n",
    "<b> 3 </b>. Write a Python program that asks the user to input a number and then prints out whether the number is positive, negative, or zero."
   ]
  },
  {
   "cell_type": "code",
   "execution_count": 5,
   "id": "4e32a377",
   "metadata": {
    "tags": []
   },
   "outputs": [
    {
     "name": "stdin",
     "output_type": "stream",
     "text": [
      "Bir sayı giriniz:  985451\n"
     ]
    },
    {
     "name": "stdout",
     "output_type": "stream",
     "text": [
      "Girdiğiniz sayı pozitif ve 985451."
     ]
    }
   ],
   "source": [
    "sayi = int(input(\"Bir sayı giriniz: \"))\n",
    "if sayi < 0:\n",
    "    print(\"Girdiğiniz sayı negatif ve\", sayi, end=\".\") # burada değişkenden sonra yazacağımız string ifadesiyle arasında boşluk olmaması için end parametresini ekliyoruz.\n",
    "elif sayi == 0:\n",
    "    print(\"Girdiğiniz sayı 0'dır.\")\n",
    "elif sayi > 0:\n",
    "    print(\"Girdiğiniz sayı pozitif ve\", sayi, end=\".\")"
   ]
  },
  {
   "cell_type": "code",
   "execution_count": 6,
   "id": "4b924f3f-fe33-47e1-a7d4-7579527bd121",
   "metadata": {
    "tags": []
   },
   "outputs": [
    {
     "name": "stdin",
     "output_type": "stream",
     "text": [
      "Bir sayı giriniz:  -156465\n"
     ]
    },
    {
     "name": "stdout",
     "output_type": "stream",
     "text": [
      "Girdiğiniz sayı negatif ve -156465."
     ]
    }
   ],
   "source": [
    "# Aynı şekilde daha farklı bir döngü yazarak yine aynı sonuca ulaşabiliriz.\n",
    "sayi = int(input(\"Bir sayı giriniz: \"))\n",
    "if sayi < 0:\n",
    "   if sayi == 0:\n",
    "       print(\"Girdiğiniz sayı 0'dır.\")\n",
    "   else:\n",
    "       print(\"Girdiğiniz sayı negatif ve\", sayi, end=\".\")\n",
    "else:\n",
    "   print(\"Girdiğiniz sayı pozitif ve\", sayi, end=\".\")"
   ]
  },
  {
   "cell_type": "markdown",
   "id": "20f5a319",
   "metadata": {},
   "source": [
    "---\n",
    "<b> 4 </b>. Write a Python function that takes two lists as input and returns a new list that contains only the elements that are common between the two lists.)"
   ]
  },
  {
   "cell_type": "code",
   "execution_count": 7,
   "id": "eeb75950",
   "metadata": {
    "tags": []
   },
   "outputs": [
    {
     "name": "stdout",
     "output_type": "stream",
     "text": [
      "{1, 3, 5, 7, 9}\n"
     ]
    }
   ],
   "source": [
    "liste_1 = [1,2,3,4,5,6,7,8,9,10]\n",
    "liste_2 = [1,3,5,7,9,11,13,15]\n",
    "ortak_liste = set(liste_1).intersection(liste_2) # intersection fonksiyonu ile bu işlemi kolayca yapabiliriz.\n",
    "print(ortak_liste)"
   ]
  },
  {
   "cell_type": "code",
   "execution_count": 8,
   "id": "abc99cc1-4f6d-4033-8719-8a29e9e621eb",
   "metadata": {
    "tags": []
   },
   "outputs": [
    {
     "name": "stdout",
     "output_type": "stream",
     "text": [
      "[1, 3, 5, 7, 9]\n"
     ]
    }
   ],
   "source": [
    "# Aynı işlemi fonksiyon ile de yapabiliriz. Fakat son adımda bu işlemi listeye çevirmemiz gerekiyor.\n",
    "# yeni_liste değişkeni ilk olarak aslında bir fonksiyon sonucu olduğu için bunu listeye çeviriyoruz.\n",
    "def ortak_deger(liste_1 , liste_2):\n",
    "    deger = [i for i in liste_1 if i in liste_2]\n",
    "    return deger\n",
    "\n",
    "liste_1 = [1,2,3,4,5,6,7,8,9,10]\n",
    "liste_2 = [1,3,5,7,9,11,13,15]\n",
    "\n",
    "yeni_liste = [ortak_deger(liste_1 , liste_2) for i in liste_1 and liste_2]\n",
    "print(ortak_deger(liste_1 , liste_2))"
   ]
  },
  {
   "cell_type": "code",
   "execution_count": 9,
   "id": "6398bf5e-64db-41af-885c-39d98a357f06",
   "metadata": {
    "tags": []
   },
   "outputs": [
    {
     "data": {
      "text/plain": [
       "list"
      ]
     },
     "execution_count": 9,
     "metadata": {},
     "output_type": "execute_result"
    }
   ],
   "source": [
    "# Gördüğümüz gibi son adımda değişkenimiz liste tipindedir.\n",
    "type(yeni_liste)"
   ]
  },
  {
   "cell_type": "markdown",
   "id": "f54c66b0",
   "metadata": {
    "tags": []
   },
   "source": [
    "---\n",
    "<b> 5. </b> Write a Python program that reads a CSV file and prints out the total number of rows in the file."
   ]
  },
  {
   "cell_type": "code",
   "execution_count": 10,
   "id": "56d3d09a",
   "metadata": {
    "tags": []
   },
   "outputs": [
    {
     "data": {
      "text/html": [
       "<div>\n",
       "<style scoped>\n",
       "    .dataframe tbody tr th:only-of-type {\n",
       "        vertical-align: middle;\n",
       "    }\n",
       "\n",
       "    .dataframe tbody tr th {\n",
       "        vertical-align: top;\n",
       "    }\n",
       "\n",
       "    .dataframe thead th {\n",
       "        text-align: right;\n",
       "    }\n",
       "</style>\n",
       "<table border=\"1\" class=\"dataframe\">\n",
       "  <thead>\n",
       "    <tr style=\"text-align: right;\">\n",
       "      <th></th>\n",
       "      <th>ID</th>\n",
       "      <th>Age</th>\n",
       "      <th>Gender</th>\n",
       "      <th>Bedtime</th>\n",
       "      <th>Wakeup time</th>\n",
       "      <th>Sleep duration</th>\n",
       "      <th>Sleep efficiency</th>\n",
       "      <th>REM sleep percentage</th>\n",
       "      <th>Deep sleep percentage</th>\n",
       "      <th>Light sleep percentage</th>\n",
       "      <th>Awakenings</th>\n",
       "      <th>Caffeine consumption</th>\n",
       "      <th>Alcohol consumption</th>\n",
       "      <th>Smoking status</th>\n",
       "      <th>Exercise frequency</th>\n",
       "    </tr>\n",
       "  </thead>\n",
       "  <tbody>\n",
       "    <tr>\n",
       "      <th>0</th>\n",
       "      <td>1</td>\n",
       "      <td>65</td>\n",
       "      <td>Female</td>\n",
       "      <td>2021-03-06 01:00:00</td>\n",
       "      <td>2021-03-06 07:00:00</td>\n",
       "      <td>6.0</td>\n",
       "      <td>0.88</td>\n",
       "      <td>18</td>\n",
       "      <td>70</td>\n",
       "      <td>12</td>\n",
       "      <td>0.0</td>\n",
       "      <td>0.0</td>\n",
       "      <td>0.0</td>\n",
       "      <td>Yes</td>\n",
       "      <td>3.0</td>\n",
       "    </tr>\n",
       "    <tr>\n",
       "      <th>1</th>\n",
       "      <td>2</td>\n",
       "      <td>69</td>\n",
       "      <td>Male</td>\n",
       "      <td>2021-12-05 02:00:00</td>\n",
       "      <td>2021-12-05 09:00:00</td>\n",
       "      <td>7.0</td>\n",
       "      <td>0.66</td>\n",
       "      <td>19</td>\n",
       "      <td>28</td>\n",
       "      <td>53</td>\n",
       "      <td>3.0</td>\n",
       "      <td>0.0</td>\n",
       "      <td>3.0</td>\n",
       "      <td>Yes</td>\n",
       "      <td>3.0</td>\n",
       "    </tr>\n",
       "    <tr>\n",
       "      <th>2</th>\n",
       "      <td>3</td>\n",
       "      <td>40</td>\n",
       "      <td>Female</td>\n",
       "      <td>2021-05-25 21:30:00</td>\n",
       "      <td>2021-05-25 05:30:00</td>\n",
       "      <td>8.0</td>\n",
       "      <td>0.89</td>\n",
       "      <td>20</td>\n",
       "      <td>70</td>\n",
       "      <td>10</td>\n",
       "      <td>1.0</td>\n",
       "      <td>0.0</td>\n",
       "      <td>0.0</td>\n",
       "      <td>No</td>\n",
       "      <td>3.0</td>\n",
       "    </tr>\n",
       "    <tr>\n",
       "      <th>3</th>\n",
       "      <td>4</td>\n",
       "      <td>40</td>\n",
       "      <td>Female</td>\n",
       "      <td>2021-11-03 02:30:00</td>\n",
       "      <td>2021-11-03 08:30:00</td>\n",
       "      <td>6.0</td>\n",
       "      <td>0.51</td>\n",
       "      <td>23</td>\n",
       "      <td>25</td>\n",
       "      <td>52</td>\n",
       "      <td>3.0</td>\n",
       "      <td>50.0</td>\n",
       "      <td>5.0</td>\n",
       "      <td>Yes</td>\n",
       "      <td>1.0</td>\n",
       "    </tr>\n",
       "    <tr>\n",
       "      <th>4</th>\n",
       "      <td>5</td>\n",
       "      <td>57</td>\n",
       "      <td>Male</td>\n",
       "      <td>2021-03-13 01:00:00</td>\n",
       "      <td>2021-03-13 09:00:00</td>\n",
       "      <td>8.0</td>\n",
       "      <td>0.76</td>\n",
       "      <td>27</td>\n",
       "      <td>55</td>\n",
       "      <td>18</td>\n",
       "      <td>3.0</td>\n",
       "      <td>0.0</td>\n",
       "      <td>3.0</td>\n",
       "      <td>No</td>\n",
       "      <td>3.0</td>\n",
       "    </tr>\n",
       "    <tr>\n",
       "      <th>...</th>\n",
       "      <td>...</td>\n",
       "      <td>...</td>\n",
       "      <td>...</td>\n",
       "      <td>...</td>\n",
       "      <td>...</td>\n",
       "      <td>...</td>\n",
       "      <td>...</td>\n",
       "      <td>...</td>\n",
       "      <td>...</td>\n",
       "      <td>...</td>\n",
       "      <td>...</td>\n",
       "      <td>...</td>\n",
       "      <td>...</td>\n",
       "      <td>...</td>\n",
       "      <td>...</td>\n",
       "    </tr>\n",
       "    <tr>\n",
       "      <th>447</th>\n",
       "      <td>448</td>\n",
       "      <td>27</td>\n",
       "      <td>Female</td>\n",
       "      <td>2021-11-13 22:00:00</td>\n",
       "      <td>2021-11-13 05:30:00</td>\n",
       "      <td>7.5</td>\n",
       "      <td>0.91</td>\n",
       "      <td>22</td>\n",
       "      <td>57</td>\n",
       "      <td>21</td>\n",
       "      <td>0.0</td>\n",
       "      <td>0.0</td>\n",
       "      <td>0.0</td>\n",
       "      <td>No</td>\n",
       "      <td>5.0</td>\n",
       "    </tr>\n",
       "    <tr>\n",
       "      <th>448</th>\n",
       "      <td>449</td>\n",
       "      <td>52</td>\n",
       "      <td>Male</td>\n",
       "      <td>2021-03-31 21:00:00</td>\n",
       "      <td>2021-03-31 03:00:00</td>\n",
       "      <td>6.0</td>\n",
       "      <td>0.74</td>\n",
       "      <td>28</td>\n",
       "      <td>57</td>\n",
       "      <td>15</td>\n",
       "      <td>4.0</td>\n",
       "      <td>25.0</td>\n",
       "      <td>0.0</td>\n",
       "      <td>No</td>\n",
       "      <td>3.0</td>\n",
       "    </tr>\n",
       "    <tr>\n",
       "      <th>449</th>\n",
       "      <td>450</td>\n",
       "      <td>40</td>\n",
       "      <td>Female</td>\n",
       "      <td>2021-09-07 23:00:00</td>\n",
       "      <td>2021-09-07 07:30:00</td>\n",
       "      <td>8.5</td>\n",
       "      <td>0.55</td>\n",
       "      <td>20</td>\n",
       "      <td>32</td>\n",
       "      <td>48</td>\n",
       "      <td>1.0</td>\n",
       "      <td>NaN</td>\n",
       "      <td>3.0</td>\n",
       "      <td>Yes</td>\n",
       "      <td>0.0</td>\n",
       "    </tr>\n",
       "    <tr>\n",
       "      <th>450</th>\n",
       "      <td>451</td>\n",
       "      <td>45</td>\n",
       "      <td>Male</td>\n",
       "      <td>2021-07-29 21:00:00</td>\n",
       "      <td>2021-07-29 04:00:00</td>\n",
       "      <td>7.0</td>\n",
       "      <td>0.76</td>\n",
       "      <td>18</td>\n",
       "      <td>72</td>\n",
       "      <td>10</td>\n",
       "      <td>3.0</td>\n",
       "      <td>0.0</td>\n",
       "      <td>0.0</td>\n",
       "      <td>No</td>\n",
       "      <td>3.0</td>\n",
       "    </tr>\n",
       "    <tr>\n",
       "      <th>451</th>\n",
       "      <td>452</td>\n",
       "      <td>18</td>\n",
       "      <td>Male</td>\n",
       "      <td>2021-03-17 02:30:00</td>\n",
       "      <td>2021-03-17 10:00:00</td>\n",
       "      <td>7.5</td>\n",
       "      <td>0.63</td>\n",
       "      <td>22</td>\n",
       "      <td>23</td>\n",
       "      <td>55</td>\n",
       "      <td>1.0</td>\n",
       "      <td>50.0</td>\n",
       "      <td>0.0</td>\n",
       "      <td>No</td>\n",
       "      <td>1.0</td>\n",
       "    </tr>\n",
       "  </tbody>\n",
       "</table>\n",
       "<p>452 rows × 15 columns</p>\n",
       "</div>"
      ],
      "text/plain": [
       "      ID  Age  Gender              Bedtime          Wakeup time  \\\n",
       "0      1   65  Female  2021-03-06 01:00:00  2021-03-06 07:00:00   \n",
       "1      2   69    Male  2021-12-05 02:00:00  2021-12-05 09:00:00   \n",
       "2      3   40  Female  2021-05-25 21:30:00  2021-05-25 05:30:00   \n",
       "3      4   40  Female  2021-11-03 02:30:00  2021-11-03 08:30:00   \n",
       "4      5   57    Male  2021-03-13 01:00:00  2021-03-13 09:00:00   \n",
       "..   ...  ...     ...                  ...                  ...   \n",
       "447  448   27  Female  2021-11-13 22:00:00  2021-11-13 05:30:00   \n",
       "448  449   52    Male  2021-03-31 21:00:00  2021-03-31 03:00:00   \n",
       "449  450   40  Female  2021-09-07 23:00:00  2021-09-07 07:30:00   \n",
       "450  451   45    Male  2021-07-29 21:00:00  2021-07-29 04:00:00   \n",
       "451  452   18    Male  2021-03-17 02:30:00  2021-03-17 10:00:00   \n",
       "\n",
       "     Sleep duration  Sleep efficiency  REM sleep percentage  \\\n",
       "0               6.0              0.88                    18   \n",
       "1               7.0              0.66                    19   \n",
       "2               8.0              0.89                    20   \n",
       "3               6.0              0.51                    23   \n",
       "4               8.0              0.76                    27   \n",
       "..              ...               ...                   ...   \n",
       "447             7.5              0.91                    22   \n",
       "448             6.0              0.74                    28   \n",
       "449             8.5              0.55                    20   \n",
       "450             7.0              0.76                    18   \n",
       "451             7.5              0.63                    22   \n",
       "\n",
       "     Deep sleep percentage  Light sleep percentage  Awakenings  \\\n",
       "0                       70                      12         0.0   \n",
       "1                       28                      53         3.0   \n",
       "2                       70                      10         1.0   \n",
       "3                       25                      52         3.0   \n",
       "4                       55                      18         3.0   \n",
       "..                     ...                     ...         ...   \n",
       "447                     57                      21         0.0   \n",
       "448                     57                      15         4.0   \n",
       "449                     32                      48         1.0   \n",
       "450                     72                      10         3.0   \n",
       "451                     23                      55         1.0   \n",
       "\n",
       "     Caffeine consumption  Alcohol consumption Smoking status  \\\n",
       "0                     0.0                  0.0            Yes   \n",
       "1                     0.0                  3.0            Yes   \n",
       "2                     0.0                  0.0             No   \n",
       "3                    50.0                  5.0            Yes   \n",
       "4                     0.0                  3.0             No   \n",
       "..                    ...                  ...            ...   \n",
       "447                   0.0                  0.0             No   \n",
       "448                  25.0                  0.0             No   \n",
       "449                   NaN                  3.0            Yes   \n",
       "450                   0.0                  0.0             No   \n",
       "451                  50.0                  0.0             No   \n",
       "\n",
       "     Exercise frequency  \n",
       "0                   3.0  \n",
       "1                   3.0  \n",
       "2                   3.0  \n",
       "3                   1.0  \n",
       "4                   3.0  \n",
       "..                  ...  \n",
       "447                 5.0  \n",
       "448                 3.0  \n",
       "449                 0.0  \n",
       "450                 3.0  \n",
       "451                 1.0  \n",
       "\n",
       "[452 rows x 15 columns]"
      ]
     },
     "execution_count": 10,
     "metadata": {},
     "output_type": "execute_result"
    }
   ],
   "source": [
    "import pandas as pd # Bu işlem için ilk olarak pandas kütüphanesini içeri aktaralım.\n",
    "df = pd.read_csv(\"Sleep_Efficiency.csv\")\n",
    "df # Burada csv dosyasının ilk 5 ve son 5 elemanını görebiliriz. Aynı zamanda satır ve sütun sayısını da görebiliyoruz. 452 satır ve 15 sütun."
   ]
  },
  {
   "cell_type": "code",
   "execution_count": 11,
   "id": "896e53af-f2af-4687-8dad-f7b8fb13f64b",
   "metadata": {
    "tags": []
   },
   "outputs": [
    {
     "data": {
      "text/plain": [
       "(452, 15)"
      ]
     },
     "execution_count": 11,
     "metadata": {},
     "output_type": "execute_result"
    }
   ],
   "source": [
    "df.shape # Yine shape metotu ile veri setinin satır ve sütun sayısını görebiliriz."
   ]
  },
  {
   "cell_type": "markdown",
   "id": "160e9341",
   "metadata": {
    "tags": []
   },
   "source": [
    "---\n",
    "<b> 6. </b> Write a Python function that takes a string as input and returns a dictionary where each key is a character in the string and the value is the number of times that character appears in the string."
   ]
  },
  {
   "cell_type": "code",
   "execution_count": 12,
   "id": "576f9ba9-0ebc-4591-bbd8-78e337415b54",
   "metadata": {
    "tags": []
   },
   "outputs": [
    {
     "data": {
      "text/plain": [
       "{'B': 1,\n",
       " 'u': 1,\n",
       " ' ': 3,\n",
       " 'b': 1,\n",
       " 'i': 3,\n",
       " 'r': 2,\n",
       " 'd': 2,\n",
       " 'e': 4,\n",
       " 'n': 1,\n",
       " 'm': 2,\n",
       " 'c': 1,\n",
       " 'ü': 1,\n",
       " 'l': 1,\n",
       " 's': 1,\n",
       " '.': 1}"
      ]
     },
     "execution_count": 12,
     "metadata": {},
     "output_type": "execute_result"
    }
   ],
   "source": [
    "# Uzun zamandır dictionarylerle çalışmadığım için dictionary guide'na baktığımı belirtmek isterim.\n",
    "# Bir süredir sadece data framelerle çalıştığım için bu kısımları çok hatırlamıyorum.\n",
    "def görünme_sayısı(string):\n",
    "    sözlük_sayım = {}\n",
    "\n",
    "    for kelime in string:\n",
    "        if kelime in sözlük_sayım:\n",
    "            sözlük_sayım[kelime] += 1\n",
    "        else:\n",
    "            sözlük_sayım[kelime] = 1\n",
    "    return sözlük_sayım\n",
    "görünme_sayısı(\"Bu bir deneme cümlesidir.\")"
   ]
  },
  {
   "cell_type": "markdown",
   "id": "ad2526af",
   "metadata": {},
   "source": [
    "---\n",
    "<b> 7. </b> Write a Python program that reads a large text file and finds the 10 most common words in the file, along with their frequency."
   ]
  },
  {
   "cell_type": "code",
   "execution_count": 14,
   "id": "fc173f86",
   "metadata": {
    "tags": []
   },
   "outputs": [
    {
     "name": "stdout",
     "output_type": "stream",
     "text": [
      "Romeo ve Juliet Oyunundaki en yaygın 10 kelime : [('the', 780), ('I', 551), ('and', 541), ('to', 524), ('of', 476), ('a', 458), ('in', 350), ('is', 313), ('my', 304), ('with', 274)]\n"
     ]
    }
   ],
   "source": [
    "# Burada William Shakespeare'in \"The Project Gutenberg\"den alınan Romeo ve Juliet oyununun ücretsiz versiyonunu textfile çevirerek kullanıyoruz.\n",
    "from collections import Counter # Counter kütüphanesini ile bu işlemi kolayca yapabiliriz. İlk olarak Counter kütüphnesini içeri aktaralım.\n",
    "def kelime_tekrarı(yaygın):\n",
    "        with open(yaygın) as f: # Buradaki parametleri hatırlamak için internetten Counter guide'da tekrar baktığımı belirtmek isterim.\n",
    "                return Counter(f.read().split())\n",
    "            \n",
    "print(\"Romeo ve Juliet Oyunundaki en yaygın 10 kelime :\", kelime_tekrarı(\"metin.txt\").most_common(10))"
   ]
  },
  {
   "cell_type": "code",
   "execution_count": 15,
   "id": "6d2c1b7e-587d-4216-bcf1-71483480a3ec",
   "metadata": {
    "tags": []
   },
   "outputs": [
    {
     "name": "stdout",
     "output_type": "stream",
     "text": [
      "+--------+-------------------+\n",
      "| Kelime | Tekrarlama Sayısı |\n",
      "+--------+-------------------+\n",
      "|  the   |        780        |\n",
      "|   I    |        551        |\n",
      "|  and   |        541        |\n",
      "|   to   |        524        |\n",
      "|   of   |        476        |\n",
      "|   a    |        458        |\n",
      "|   in   |        350        |\n",
      "|   is   |        313        |\n",
      "|   my   |        304        |\n",
      "|  with  |        274        |\n",
      "+--------+-------------------+\n"
     ]
    }
   ],
   "source": [
    "# Burada prettytable kütüphanesi ile yukarıda aldığımız sonuçları daha rahat görebilmek için tablo haline getiriyoruz.\n",
    "from prettytable import PrettyTable\n",
    "\n",
    "tablo = PrettyTable([\"Kelime\", \"Tekrarlama Sayısı\"])\n",
    "tekrarlama_sayısı = [('the', 780), ('I', 551), ('and', 541), ('to', 524), ('of', 476), ('a', 458), ('in', 350), ('is', 313), ('my', 304), ('with', 274)]\n",
    "\n",
    "for i in tekrarlama_sayısı:\n",
    "    tablo.add_row([i[0],i[1]])\n",
    "\n",
    "print(tablo)"
   ]
  },
  {
   "cell_type": "markdown",
   "id": "baaa237c",
   "metadata": {},
   "source": [
    "---\n",
    "<b> 8. </b> Write a Python function that takes a list of integers as input and returns a new list that contains all the possible combinations of three integers from the original list (i.e. all possible sets of three numbers)."
   ]
  },
  {
   "cell_type": "code",
   "execution_count": 16,
   "id": "bc0cabe4",
   "metadata": {
    "tags": []
   },
   "outputs": [
    {
     "name": "stdout",
     "output_type": "stream",
     "text": [
      "[(1, 2, 3), (1, 2, 4), (1, 2, 5), (1, 2, 6), (1, 2, 7), (1, 2, 8), (1, 2, 9), (1, 2, 10), (1, 2, 11), (1, 2, 12), (1, 2, 13), (1, 3, 4), (1, 3, 5), (1, 3, 6), (1, 3, 7), (1, 3, 8), (1, 3, 9), (1, 3, 10), (1, 3, 11), (1, 3, 12), (1, 3, 13), (1, 4, 5), (1, 4, 6), (1, 4, 7), (1, 4, 8), (1, 4, 9), (1, 4, 10), (1, 4, 11), (1, 4, 12), (1, 4, 13), (1, 5, 6), (1, 5, 7), (1, 5, 8), (1, 5, 9), (1, 5, 10), (1, 5, 11), (1, 5, 12), (1, 5, 13), (1, 6, 7), (1, 6, 8), (1, 6, 9), (1, 6, 10), (1, 6, 11), (1, 6, 12), (1, 6, 13), (1, 7, 8), (1, 7, 9), (1, 7, 10), (1, 7, 11), (1, 7, 12), (1, 7, 13), (1, 8, 9), (1, 8, 10), (1, 8, 11), (1, 8, 12), (1, 8, 13), (1, 9, 10), (1, 9, 11), (1, 9, 12), (1, 9, 13), (1, 10, 11), (1, 10, 12), (1, 10, 13), (1, 11, 12), (1, 11, 13), (1, 12, 13), (2, 3, 4), (2, 3, 5), (2, 3, 6), (2, 3, 7), (2, 3, 8), (2, 3, 9), (2, 3, 10), (2, 3, 11), (2, 3, 12), (2, 3, 13), (2, 4, 5), (2, 4, 6), (2, 4, 7), (2, 4, 8), (2, 4, 9), (2, 4, 10), (2, 4, 11), (2, 4, 12), (2, 4, 13), (2, 5, 6), (2, 5, 7), (2, 5, 8), (2, 5, 9), (2, 5, 10), (2, 5, 11), (2, 5, 12), (2, 5, 13), (2, 6, 7), (2, 6, 8), (2, 6, 9), (2, 6, 10), (2, 6, 11), (2, 6, 12), (2, 6, 13), (2, 7, 8), (2, 7, 9), (2, 7, 10), (2, 7, 11), (2, 7, 12), (2, 7, 13), (2, 8, 9), (2, 8, 10), (2, 8, 11), (2, 8, 12), (2, 8, 13), (2, 9, 10), (2, 9, 11), (2, 9, 12), (2, 9, 13), (2, 10, 11), (2, 10, 12), (2, 10, 13), (2, 11, 12), (2, 11, 13), (2, 12, 13), (3, 4, 5), (3, 4, 6), (3, 4, 7), (3, 4, 8), (3, 4, 9), (3, 4, 10), (3, 4, 11), (3, 4, 12), (3, 4, 13), (3, 5, 6), (3, 5, 7), (3, 5, 8), (3, 5, 9), (3, 5, 10), (3, 5, 11), (3, 5, 12), (3, 5, 13), (3, 6, 7), (3, 6, 8), (3, 6, 9), (3, 6, 10), (3, 6, 11), (3, 6, 12), (3, 6, 13), (3, 7, 8), (3, 7, 9), (3, 7, 10), (3, 7, 11), (3, 7, 12), (3, 7, 13), (3, 8, 9), (3, 8, 10), (3, 8, 11), (3, 8, 12), (3, 8, 13), (3, 9, 10), (3, 9, 11), (3, 9, 12), (3, 9, 13), (3, 10, 11), (3, 10, 12), (3, 10, 13), (3, 11, 12), (3, 11, 13), (3, 12, 13), (4, 5, 6), (4, 5, 7), (4, 5, 8), (4, 5, 9), (4, 5, 10), (4, 5, 11), (4, 5, 12), (4, 5, 13), (4, 6, 7), (4, 6, 8), (4, 6, 9), (4, 6, 10), (4, 6, 11), (4, 6, 12), (4, 6, 13), (4, 7, 8), (4, 7, 9), (4, 7, 10), (4, 7, 11), (4, 7, 12), (4, 7, 13), (4, 8, 9), (4, 8, 10), (4, 8, 11), (4, 8, 12), (4, 8, 13), (4, 9, 10), (4, 9, 11), (4, 9, 12), (4, 9, 13), (4, 10, 11), (4, 10, 12), (4, 10, 13), (4, 11, 12), (4, 11, 13), (4, 12, 13), (5, 6, 7), (5, 6, 8), (5, 6, 9), (5, 6, 10), (5, 6, 11), (5, 6, 12), (5, 6, 13), (5, 7, 8), (5, 7, 9), (5, 7, 10), (5, 7, 11), (5, 7, 12), (5, 7, 13), (5, 8, 9), (5, 8, 10), (5, 8, 11), (5, 8, 12), (5, 8, 13), (5, 9, 10), (5, 9, 11), (5, 9, 12), (5, 9, 13), (5, 10, 11), (5, 10, 12), (5, 10, 13), (5, 11, 12), (5, 11, 13), (5, 12, 13), (6, 7, 8), (6, 7, 9), (6, 7, 10), (6, 7, 11), (6, 7, 12), (6, 7, 13), (6, 8, 9), (6, 8, 10), (6, 8, 11), (6, 8, 12), (6, 8, 13), (6, 9, 10), (6, 9, 11), (6, 9, 12), (6, 9, 13), (6, 10, 11), (6, 10, 12), (6, 10, 13), (6, 11, 12), (6, 11, 13), (6, 12, 13), (7, 8, 9), (7, 8, 10), (7, 8, 11), (7, 8, 12), (7, 8, 13), (7, 9, 10), (7, 9, 11), (7, 9, 12), (7, 9, 13), (7, 10, 11), (7, 10, 12), (7, 10, 13), (7, 11, 12), (7, 11, 13), (7, 12, 13), (8, 9, 10), (8, 9, 11), (8, 9, 12), (8, 9, 13), (8, 10, 11), (8, 10, 12), (8, 10, 13), (8, 11, 12), (8, 11, 13), (8, 12, 13), (9, 10, 11), (9, 10, 12), (9, 10, 13), (9, 11, 12), (9, 11, 13), (9, 12, 13), (10, 11, 12), (10, 11, 13), (10, 12, 13), (11, 12, 13)]\n"
     ]
    }
   ],
   "source": [
    "# Daha önce böyle bir fonksiyon yazmadığım için direkt olarak itertools kütüphanesinin özelliğini kullandım.\n",
    "import itertools \n",
    "\n",
    "liste = [1,2,3,4,5,6,7,8,9,10,11,12,13] \n",
    "kombinasyon_list = list(itertools.combinations(liste,3)) # Listedeki sayıların 3'lü tüm olası kombinasyonlarını alıyoruz.\n",
    "\n",
    "print(kombinasyon_list)"
   ]
  },
  {
   "cell_type": "markdown",
   "id": "bd3282c4",
   "metadata": {},
   "source": [
    "---"
   ]
  }
 ],
 "metadata": {
  "kernelspec": {
   "display_name": "Python 3 (ipykernel)",
   "language": "python",
   "name": "python3"
  },
  "language_info": {
   "codemirror_mode": {
    "name": "ipython",
    "version": 3
   },
   "file_extension": ".py",
   "mimetype": "text/x-python",
   "name": "python",
   "nbconvert_exporter": "python",
   "pygments_lexer": "ipython3",
   "version": "3.8.16"
  }
 },
 "nbformat": 4,
 "nbformat_minor": 5
}
